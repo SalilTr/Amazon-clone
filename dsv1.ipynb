{
  "nbformat": 4,
  "nbformat_minor": 0,
  "metadata": {
    "colab": {
      "provenance": [],
      "gpuType": "T4",
      "authorship_tag": "ABX9TyOTI3H+2xMIE/ZvJWc0b/m7",
      "include_colab_link": true
    },
    "kernelspec": {
      "name": "python3",
      "display_name": "Python 3"
    },
    "language_info": {
      "name": "python"
    },
    "accelerator": "GPU"
  },
  "cells": [
    {
      "cell_type": "markdown",
      "metadata": {
        "id": "view-in-github",
        "colab_type": "text"
      },
      "source": [
        "<a href=\"https://colab.research.google.com/github/SalilTr/Amazon-clone/blob/main/dsv1.ipynb\" target=\"_parent\"><img src=\"https://colab.research.google.com/assets/colab-badge.svg\" alt=\"Open In Colab\"/></a>"
      ]
    },
    {
      "cell_type": "code",
      "execution_count": null,
      "metadata": {
        "colab": {
          "base_uri": "https://localhost:8080/"
        },
        "id": "MW2BLJDk1V_e",
        "outputId": "4a6a4e4f-c72a-46db-fc17-2ad264c63091"
      },
      "outputs": [
        {
          "output_type": "stream",
          "name": "stdout",
          "text": [
            "Enter your name: salil\n",
            "Hello, salil! Welcome to Python programming!\n"
          ]
        }
      ],
      "source": [
        "# Get the user's name\n",
        "name = input(\"Enter your name: \")\n",
        "\n",
        "# Display a greeting message\n",
        "print(f\"Hello, {name}! Welcome to Python programming!\")\n"
      ]
    },
    {
      "cell_type": "code",
      "source": [
        "cd dsv_assignment/"
      ],
      "metadata": {
        "colab": {
          "base_uri": "https://localhost:8080/"
        },
        "id": "wCA1i-eu3q_9",
        "outputId": "987ed26b-858a-4193-80e1-bc7543f6807e"
      },
      "execution_count": null,
      "outputs": [
        {
          "output_type": "stream",
          "name": "stdout",
          "text": [
            "/content/dsv_assignment\n"
          ]
        }
      ]
    }
  ]
}